{
 "cells": [
  {
   "cell_type": "markdown",
   "id": "379663c1-5796-49a0-8e79-58aece321b95",
   "metadata": {},
   "source": [
    "For both PacBio and MiSeq data:\n",
    "* Upload **barplot.qzv** file to [https://view.qiime2.org/](https://view.qiime2.org/)\n",
    "* Set **Taxonomic Level** to **Level 7**\n",
    "* Download csv"
   ]
  },
  {
   "cell_type": "code",
   "execution_count": 70,
   "id": "d7091502-d8b5-4ae8-af50-00af0ac65e55",
   "metadata": {},
   "outputs": [],
   "source": [
    "import pandas as pd\n",
    "import altair as alt"
   ]
  },
  {
   "cell_type": "code",
   "execution_count": 71,
   "id": "e7feb5ef-45a2-4fa4-8a92-216cc9048647",
   "metadata": {},
   "outputs": [],
   "source": [
    "pacbio_df = pd.read_csv(\"pacbio_level-7.csv\")\n",
    "columns = [f.split(';')[-1].strip('s__') if f.startswith('d__Bacteria') else f for f in pacbio_df.columns.tolist()]\n",
    "columns = ['unknown' if f == '' else f for f in columns]\n",
    "columns = ['uncultured' if f.startswith('uncultured') else f for f in columns]\n",
    "pacbio_df.columns = columns\n",
    "pacbio_df2 = pacbio_df.drop(['index','condition'],axis=1).T.sum(axis=1).reset_index()\n",
    "pacbio_df2.columns = ['species','counts']\n",
    "pacbio_df3 = pacbio_df2.groupby('species').agg(sum).sort_values('counts', ascending=False)"
   ]
  },
  {
   "cell_type": "code",
   "execution_count": 72,
   "id": "a56ebb8a-7fa5-42fd-ae85-7fb134f960f8",
   "metadata": {},
   "outputs": [
    {
     "data": {
      "text/html": [
       "\n",
       "<div id=\"altair-viz-2cd01ff47835405a9ffd27b7a77d25ba\"></div>\n",
       "<script type=\"text/javascript\">\n",
       "  var VEGA_DEBUG = (typeof VEGA_DEBUG == \"undefined\") ? {} : VEGA_DEBUG;\n",
       "  (function(spec, embedOpt){\n",
       "    let outputDiv = document.currentScript.previousElementSibling;\n",
       "    if (outputDiv.id !== \"altair-viz-2cd01ff47835405a9ffd27b7a77d25ba\") {\n",
       "      outputDiv = document.getElementById(\"altair-viz-2cd01ff47835405a9ffd27b7a77d25ba\");\n",
       "    }\n",
       "    const paths = {\n",
       "      \"vega\": \"https://cdn.jsdelivr.net/npm//vega@5?noext\",\n",
       "      \"vega-lib\": \"https://cdn.jsdelivr.net/npm//vega-lib?noext\",\n",
       "      \"vega-lite\": \"https://cdn.jsdelivr.net/npm//vega-lite@4.17.0?noext\",\n",
       "      \"vega-embed\": \"https://cdn.jsdelivr.net/npm//vega-embed@6?noext\",\n",
       "    };\n",
       "\n",
       "    function maybeLoadScript(lib, version) {\n",
       "      var key = `${lib.replace(\"-\", \"\")}_version`;\n",
       "      return (VEGA_DEBUG[key] == version) ?\n",
       "        Promise.resolve(paths[lib]) :\n",
       "        new Promise(function(resolve, reject) {\n",
       "          var s = document.createElement('script');\n",
       "          document.getElementsByTagName(\"head\")[0].appendChild(s);\n",
       "          s.async = true;\n",
       "          s.onload = () => {\n",
       "            VEGA_DEBUG[key] = version;\n",
       "            return resolve(paths[lib]);\n",
       "          };\n",
       "          s.onerror = () => reject(`Error loading script: ${paths[lib]}`);\n",
       "          s.src = paths[lib];\n",
       "        });\n",
       "    }\n",
       "\n",
       "    function showError(err) {\n",
       "      outputDiv.innerHTML = `<div class=\"error\" style=\"color:red;\">${err}</div>`;\n",
       "      throw err;\n",
       "    }\n",
       "\n",
       "    function displayChart(vegaEmbed) {\n",
       "      vegaEmbed(outputDiv, spec, embedOpt)\n",
       "        .catch(err => showError(`Javascript Error: ${err.message}<br>This usually means there's a typo in your chart specification. See the javascript console for the full traceback.`));\n",
       "    }\n",
       "\n",
       "    if(typeof define === \"function\" && define.amd) {\n",
       "      requirejs.config({paths});\n",
       "      require([\"vega-embed\"], displayChart, err => showError(`Error loading script: ${err.message}`));\n",
       "    } else {\n",
       "      maybeLoadScript(\"vega\", \"5\")\n",
       "        .then(() => maybeLoadScript(\"vega-lite\", \"4.17.0\"))\n",
       "        .then(() => maybeLoadScript(\"vega-embed\", \"6\"))\n",
       "        .catch(showError)\n",
       "        .then(() => displayChart(vegaEmbed));\n",
       "    }\n",
       "  })({\"config\": {\"view\": {\"continuousWidth\": 400, \"continuousHeight\": 300}}, \"data\": {\"name\": \"data-ea075276166d38cb98339fde37267844\"}, \"mark\": \"bar\", \"encoding\": {\"color\": {\"field\": \"species\", \"type\": \"nominal\"}, \"tooltip\": [{\"field\": \"species\", \"type\": \"nominal\"}], \"y\": {\"field\": \"counts\", \"stack\": \"normalize\", \"type\": \"quantitative\"}}, \"height\": 700, \"width\": 400, \"$schema\": \"https://vega.github.io/schema/vega-lite/v4.17.0.json\", \"datasets\": {\"data-ea075276166d38cb98339fde37267844\": [{\"species\": \"Staphylococcus_aureu\", \"counts\": 106624.0}, {\"species\": \"Escherichia_coli\", \"counts\": 77726.0}, {\"species\": \"unknown\", \"counts\": 63074.0}, {\"species\": \"uncultured\", \"counts\": 17950.0}, {\"species\": \"Vibrio_fluviali\", \"counts\": 16790.0}, {\"species\": \"Unassigned;__;__;__;__;__;__\", \"counts\": 8422.0}, {\"species\": \"Photobacterium_sp.\", \"counts\": 5352.0}, {\"species\": \"Shewanella_amazonensi\", \"counts\": 5065.0}, {\"species\": \"Vibrio_vulnificu\", \"counts\": 4891.0}, {\"species\": \"Oceanimonas_sp.\", \"counts\": 1139.0}, {\"species\": \"Vibrio_cholerae\", \"counts\": 815.0}, {\"species\": \"Shewanella_sp.\", \"counts\": 738.0}, {\"species\": \"Acholeplasma_brassicae\", \"counts\": 680.0}, {\"species\": \"Novispirillum_itersonii\", \"counts\": 471.0}, {\"species\": \"Vibrio_furnissii\", \"counts\": 392.0}, {\"species\": \"metagenome\", \"counts\": 357.0}, {\"species\": \"Arcobacter_butzleri\", \"counts\": 324.0}, {\"species\": \"Myroides_odoratimimu\", \"counts\": 318.0}, {\"species\": \"Pseudomonas_balearica\", \"counts\": 258.0}, {\"species\": \"Shewanella_algae\", \"counts\": 246.0}]}}, {\"mode\": \"vega-lite\"});\n",
       "</script>"
      ],
      "text/plain": [
       "alt.Chart(...)"
      ]
     },
     "execution_count": 72,
     "metadata": {},
     "output_type": "execute_result"
    }
   ],
   "source": [
    "alt.Chart(pacbio_df3.reset_index().sort_values('counts', ascending=False).head(20)).mark_bar().encode(\n",
    "    y=alt.Y('counts', stack=\"normalize\"),\n",
    "    color='species',\n",
    "    tooltip=['species']\n",
    ").properties(\n",
    "    width=400,\n",
    "    height=700\n",
    ")"
   ]
  },
  {
   "cell_type": "code",
   "execution_count": 73,
   "id": "eb3af10c-95a8-4242-acd7-ee1999cb0059",
   "metadata": {},
   "outputs": [
    {
     "data": {
      "text/html": [
       "\n",
       "<div id=\"altair-viz-dfa2a1f4cc77459199e5b9873148cc0c\"></div>\n",
       "<script type=\"text/javascript\">\n",
       "  var VEGA_DEBUG = (typeof VEGA_DEBUG == \"undefined\") ? {} : VEGA_DEBUG;\n",
       "  (function(spec, embedOpt){\n",
       "    let outputDiv = document.currentScript.previousElementSibling;\n",
       "    if (outputDiv.id !== \"altair-viz-dfa2a1f4cc77459199e5b9873148cc0c\") {\n",
       "      outputDiv = document.getElementById(\"altair-viz-dfa2a1f4cc77459199e5b9873148cc0c\");\n",
       "    }\n",
       "    const paths = {\n",
       "      \"vega\": \"https://cdn.jsdelivr.net/npm//vega@5?noext\",\n",
       "      \"vega-lib\": \"https://cdn.jsdelivr.net/npm//vega-lib?noext\",\n",
       "      \"vega-lite\": \"https://cdn.jsdelivr.net/npm//vega-lite@4.17.0?noext\",\n",
       "      \"vega-embed\": \"https://cdn.jsdelivr.net/npm//vega-embed@6?noext\",\n",
       "    };\n",
       "\n",
       "    function maybeLoadScript(lib, version) {\n",
       "      var key = `${lib.replace(\"-\", \"\")}_version`;\n",
       "      return (VEGA_DEBUG[key] == version) ?\n",
       "        Promise.resolve(paths[lib]) :\n",
       "        new Promise(function(resolve, reject) {\n",
       "          var s = document.createElement('script');\n",
       "          document.getElementsByTagName(\"head\")[0].appendChild(s);\n",
       "          s.async = true;\n",
       "          s.onload = () => {\n",
       "            VEGA_DEBUG[key] = version;\n",
       "            return resolve(paths[lib]);\n",
       "          };\n",
       "          s.onerror = () => reject(`Error loading script: ${paths[lib]}`);\n",
       "          s.src = paths[lib];\n",
       "        });\n",
       "    }\n",
       "\n",
       "    function showError(err) {\n",
       "      outputDiv.innerHTML = `<div class=\"error\" style=\"color:red;\">${err}</div>`;\n",
       "      throw err;\n",
       "    }\n",
       "\n",
       "    function displayChart(vegaEmbed) {\n",
       "      vegaEmbed(outputDiv, spec, embedOpt)\n",
       "        .catch(err => showError(`Javascript Error: ${err.message}<br>This usually means there's a typo in your chart specification. See the javascript console for the full traceback.`));\n",
       "    }\n",
       "\n",
       "    if(typeof define === \"function\" && define.amd) {\n",
       "      requirejs.config({paths});\n",
       "      require([\"vega-embed\"], displayChart, err => showError(`Error loading script: ${err.message}`));\n",
       "    } else {\n",
       "      maybeLoadScript(\"vega\", \"5\")\n",
       "        .then(() => maybeLoadScript(\"vega-lite\", \"4.17.0\"))\n",
       "        .then(() => maybeLoadScript(\"vega-embed\", \"6\"))\n",
       "        .catch(showError)\n",
       "        .then(() => displayChart(vegaEmbed));\n",
       "    }\n",
       "  })({\"config\": {\"view\": {\"continuousWidth\": 400, \"continuousHeight\": 300}}, \"data\": {\"name\": \"data-ea075276166d38cb98339fde37267844\"}, \"mark\": \"bar\", \"encoding\": {\"tooltip\": [{\"field\": \"species\", \"type\": \"nominal\"}], \"x\": {\"field\": \"counts\", \"type\": \"quantitative\"}, \"y\": {\"field\": \"species\", \"sort\": \"-x\", \"type\": \"nominal\"}}, \"height\": 700, \"$schema\": \"https://vega.github.io/schema/vega-lite/v4.17.0.json\", \"datasets\": {\"data-ea075276166d38cb98339fde37267844\": [{\"species\": \"Staphylococcus_aureu\", \"counts\": 106624.0}, {\"species\": \"Escherichia_coli\", \"counts\": 77726.0}, {\"species\": \"unknown\", \"counts\": 63074.0}, {\"species\": \"uncultured\", \"counts\": 17950.0}, {\"species\": \"Vibrio_fluviali\", \"counts\": 16790.0}, {\"species\": \"Unassigned;__;__;__;__;__;__\", \"counts\": 8422.0}, {\"species\": \"Photobacterium_sp.\", \"counts\": 5352.0}, {\"species\": \"Shewanella_amazonensi\", \"counts\": 5065.0}, {\"species\": \"Vibrio_vulnificu\", \"counts\": 4891.0}, {\"species\": \"Oceanimonas_sp.\", \"counts\": 1139.0}, {\"species\": \"Vibrio_cholerae\", \"counts\": 815.0}, {\"species\": \"Shewanella_sp.\", \"counts\": 738.0}, {\"species\": \"Acholeplasma_brassicae\", \"counts\": 680.0}, {\"species\": \"Novispirillum_itersonii\", \"counts\": 471.0}, {\"species\": \"Vibrio_furnissii\", \"counts\": 392.0}, {\"species\": \"metagenome\", \"counts\": 357.0}, {\"species\": \"Arcobacter_butzleri\", \"counts\": 324.0}, {\"species\": \"Myroides_odoratimimu\", \"counts\": 318.0}, {\"species\": \"Pseudomonas_balearica\", \"counts\": 258.0}, {\"species\": \"Shewanella_algae\", \"counts\": 246.0}]}}, {\"mode\": \"vega-lite\"});\n",
       "</script>"
      ],
      "text/plain": [
       "alt.Chart(...)"
      ]
     },
     "execution_count": 73,
     "metadata": {},
     "output_type": "execute_result"
    }
   ],
   "source": [
    "alt.Chart(pacbio_df3.reset_index().sort_values('counts', ascending=False).head(20)).mark_bar().encode(\n",
    "    x=alt.X('counts'),\n",
    "    y=alt.Y(\"species\", sort='-x'),\n",
    "    tooltip=['species']\n",
    ").properties(height=700)"
   ]
  },
  {
   "cell_type": "code",
   "execution_count": 74,
   "id": "57a18a80-369e-460b-8fee-db512695bf5b",
   "metadata": {},
   "outputs": [],
   "source": [
    "miseq_df = pd.read_csv(\"miseq_level-7.csv\")\n",
    "columns = [f.split(';')[-1].strip('s__') if f.startswith('d__Bacteria') else f for f in miseq_df.columns.tolist()]\n",
    "columns = ['unknown' if f == '' else f for f in columns]\n",
    "columns = ['uncultured' if f.startswith('uncultured') else f for f in columns]\n",
    "miseq_df.columns = columns\n",
    "miseq_df2 = miseq_df.drop(['index','condition'],axis=1).T.sum(axis=1).reset_index()\n",
    "miseq_df2.columns = ['species','counts']\n",
    "miseq_df3 = miseq_df2.groupby('species').agg(sum).sort_values('counts', ascending=False)"
   ]
  },
  {
   "cell_type": "code",
   "execution_count": 75,
   "id": "d2f6ce83-2123-4ed2-9ecf-926bbc3377d3",
   "metadata": {},
   "outputs": [
    {
     "data": {
      "text/html": [
       "\n",
       "<div id=\"altair-viz-01d856cc20ba4293bcdc0a3c50eb1fb2\"></div>\n",
       "<script type=\"text/javascript\">\n",
       "  var VEGA_DEBUG = (typeof VEGA_DEBUG == \"undefined\") ? {} : VEGA_DEBUG;\n",
       "  (function(spec, embedOpt){\n",
       "    let outputDiv = document.currentScript.previousElementSibling;\n",
       "    if (outputDiv.id !== \"altair-viz-01d856cc20ba4293bcdc0a3c50eb1fb2\") {\n",
       "      outputDiv = document.getElementById(\"altair-viz-01d856cc20ba4293bcdc0a3c50eb1fb2\");\n",
       "    }\n",
       "    const paths = {\n",
       "      \"vega\": \"https://cdn.jsdelivr.net/npm//vega@5?noext\",\n",
       "      \"vega-lib\": \"https://cdn.jsdelivr.net/npm//vega-lib?noext\",\n",
       "      \"vega-lite\": \"https://cdn.jsdelivr.net/npm//vega-lite@4.17.0?noext\",\n",
       "      \"vega-embed\": \"https://cdn.jsdelivr.net/npm//vega-embed@6?noext\",\n",
       "    };\n",
       "\n",
       "    function maybeLoadScript(lib, version) {\n",
       "      var key = `${lib.replace(\"-\", \"\")}_version`;\n",
       "      return (VEGA_DEBUG[key] == version) ?\n",
       "        Promise.resolve(paths[lib]) :\n",
       "        new Promise(function(resolve, reject) {\n",
       "          var s = document.createElement('script');\n",
       "          document.getElementsByTagName(\"head\")[0].appendChild(s);\n",
       "          s.async = true;\n",
       "          s.onload = () => {\n",
       "            VEGA_DEBUG[key] = version;\n",
       "            return resolve(paths[lib]);\n",
       "          };\n",
       "          s.onerror = () => reject(`Error loading script: ${paths[lib]}`);\n",
       "          s.src = paths[lib];\n",
       "        });\n",
       "    }\n",
       "\n",
       "    function showError(err) {\n",
       "      outputDiv.innerHTML = `<div class=\"error\" style=\"color:red;\">${err}</div>`;\n",
       "      throw err;\n",
       "    }\n",
       "\n",
       "    function displayChart(vegaEmbed) {\n",
       "      vegaEmbed(outputDiv, spec, embedOpt)\n",
       "        .catch(err => showError(`Javascript Error: ${err.message}<br>This usually means there's a typo in your chart specification. See the javascript console for the full traceback.`));\n",
       "    }\n",
       "\n",
       "    if(typeof define === \"function\" && define.amd) {\n",
       "      requirejs.config({paths});\n",
       "      require([\"vega-embed\"], displayChart, err => showError(`Error loading script: ${err.message}`));\n",
       "    } else {\n",
       "      maybeLoadScript(\"vega\", \"5\")\n",
       "        .then(() => maybeLoadScript(\"vega-lite\", \"4.17.0\"))\n",
       "        .then(() => maybeLoadScript(\"vega-embed\", \"6\"))\n",
       "        .catch(showError)\n",
       "        .then(() => displayChart(vegaEmbed));\n",
       "    }\n",
       "  })({\"config\": {\"view\": {\"continuousWidth\": 400, \"continuousHeight\": 300}}, \"data\": {\"name\": \"data-c7d61caeeaf8c43d8e1777f2c32fca82\"}, \"mark\": \"bar\", \"encoding\": {\"color\": {\"field\": \"species\", \"type\": \"nominal\"}, \"tooltip\": [{\"field\": \"species\", \"type\": \"nominal\"}], \"y\": {\"field\": \"counts\", \"stack\": \"normalize\", \"type\": \"quantitative\"}}, \"height\": 700, \"width\": 400, \"$schema\": \"https://vega.github.io/schema/vega-lite/v4.17.0.json\", \"datasets\": {\"data-c7d61caeeaf8c43d8e1777f2c32fca82\": [{\"species\": \"unknown\", \"counts\": 1033211.0}, {\"species\": \"uncultured\", \"counts\": 530858.0}, {\"species\": \"Unassigned;__;__;__;__;__;__\", \"counts\": 113659.0}, {\"species\": \"Escherichia_coli\", \"counts\": 51680.0}, {\"species\": \"Photobacterium_sp.\", \"counts\": 23218.0}, {\"species\": \"Vibrio_vulnificu\", \"counts\": 21969.0}, {\"species\": \"Vibrio_cholerae\", \"counts\": 17900.0}, {\"species\": \"metagenome\", \"counts\": 15102.0}, {\"species\": \"Staphylococcus_aureu\", \"counts\": 9021.0}, {\"species\": \"Bacillus_sp.\", \"counts\": 8652.0}, {\"species\": \"Ochrobactrum_sp.\", \"counts\": 3038.0}, {\"species\": \"Gram-positive_bacterium\", \"counts\": 2008.0}, {\"species\": \"Pseudoalteromonas_sp.\", \"counts\": 1571.0}, {\"species\": \"Desulfococcus_multivoran\", \"counts\": 1446.0}, {\"species\": \"Pseudomonas_aeruginosa\", \"counts\": 1426.0}, {\"species\": \"Streptomyces_sp.\", \"counts\": 1290.0}, {\"species\": \"Limnobacter_litorali\", \"counts\": 1106.0}, {\"species\": \"Verrucosispora_sp.\", \"counts\": 1046.0}, {\"species\": \"Nocardiopsis_sp.\", \"counts\": 1018.0}, {\"species\": \"Marinomonas_sp.\", \"counts\": 959.0}]}}, {\"mode\": \"vega-lite\"});\n",
       "</script>"
      ],
      "text/plain": [
       "alt.Chart(...)"
      ]
     },
     "execution_count": 75,
     "metadata": {},
     "output_type": "execute_result"
    }
   ],
   "source": [
    "alt.Chart(miseq_df3.reset_index().sort_values('counts', ascending=False).head(20)).mark_bar().encode(\n",
    "    y=alt.Y('counts', stack=\"normalize\"),\n",
    "    color='species',\n",
    "    tooltip=['species']\n",
    ").properties(\n",
    "    width=400,\n",
    "    height=700\n",
    ")"
   ]
  },
  {
   "cell_type": "code",
   "execution_count": 76,
   "id": "676b82ee-55dc-4d61-886c-af625f3192d9",
   "metadata": {},
   "outputs": [
    {
     "data": {
      "text/html": [
       "\n",
       "<div id=\"altair-viz-2c9bdb327f6848e39e821aacf38ad4c7\"></div>\n",
       "<script type=\"text/javascript\">\n",
       "  var VEGA_DEBUG = (typeof VEGA_DEBUG == \"undefined\") ? {} : VEGA_DEBUG;\n",
       "  (function(spec, embedOpt){\n",
       "    let outputDiv = document.currentScript.previousElementSibling;\n",
       "    if (outputDiv.id !== \"altair-viz-2c9bdb327f6848e39e821aacf38ad4c7\") {\n",
       "      outputDiv = document.getElementById(\"altair-viz-2c9bdb327f6848e39e821aacf38ad4c7\");\n",
       "    }\n",
       "    const paths = {\n",
       "      \"vega\": \"https://cdn.jsdelivr.net/npm//vega@5?noext\",\n",
       "      \"vega-lib\": \"https://cdn.jsdelivr.net/npm//vega-lib?noext\",\n",
       "      \"vega-lite\": \"https://cdn.jsdelivr.net/npm//vega-lite@4.17.0?noext\",\n",
       "      \"vega-embed\": \"https://cdn.jsdelivr.net/npm//vega-embed@6?noext\",\n",
       "    };\n",
       "\n",
       "    function maybeLoadScript(lib, version) {\n",
       "      var key = `${lib.replace(\"-\", \"\")}_version`;\n",
       "      return (VEGA_DEBUG[key] == version) ?\n",
       "        Promise.resolve(paths[lib]) :\n",
       "        new Promise(function(resolve, reject) {\n",
       "          var s = document.createElement('script');\n",
       "          document.getElementsByTagName(\"head\")[0].appendChild(s);\n",
       "          s.async = true;\n",
       "          s.onload = () => {\n",
       "            VEGA_DEBUG[key] = version;\n",
       "            return resolve(paths[lib]);\n",
       "          };\n",
       "          s.onerror = () => reject(`Error loading script: ${paths[lib]}`);\n",
       "          s.src = paths[lib];\n",
       "        });\n",
       "    }\n",
       "\n",
       "    function showError(err) {\n",
       "      outputDiv.innerHTML = `<div class=\"error\" style=\"color:red;\">${err}</div>`;\n",
       "      throw err;\n",
       "    }\n",
       "\n",
       "    function displayChart(vegaEmbed) {\n",
       "      vegaEmbed(outputDiv, spec, embedOpt)\n",
       "        .catch(err => showError(`Javascript Error: ${err.message}<br>This usually means there's a typo in your chart specification. See the javascript console for the full traceback.`));\n",
       "    }\n",
       "\n",
       "    if(typeof define === \"function\" && define.amd) {\n",
       "      requirejs.config({paths});\n",
       "      require([\"vega-embed\"], displayChart, err => showError(`Error loading script: ${err.message}`));\n",
       "    } else {\n",
       "      maybeLoadScript(\"vega\", \"5\")\n",
       "        .then(() => maybeLoadScript(\"vega-lite\", \"4.17.0\"))\n",
       "        .then(() => maybeLoadScript(\"vega-embed\", \"6\"))\n",
       "        .catch(showError)\n",
       "        .then(() => displayChart(vegaEmbed));\n",
       "    }\n",
       "  })({\"config\": {\"view\": {\"continuousWidth\": 400, \"continuousHeight\": 300}}, \"data\": {\"name\": \"data-c7d61caeeaf8c43d8e1777f2c32fca82\"}, \"mark\": \"bar\", \"encoding\": {\"tooltip\": [{\"field\": \"species\", \"type\": \"nominal\"}], \"x\": {\"field\": \"counts\", \"type\": \"quantitative\"}, \"y\": {\"field\": \"species\", \"sort\": \"-x\", \"type\": \"nominal\"}}, \"height\": 700, \"$schema\": \"https://vega.github.io/schema/vega-lite/v4.17.0.json\", \"datasets\": {\"data-c7d61caeeaf8c43d8e1777f2c32fca82\": [{\"species\": \"unknown\", \"counts\": 1033211.0}, {\"species\": \"uncultured\", \"counts\": 530858.0}, {\"species\": \"Unassigned;__;__;__;__;__;__\", \"counts\": 113659.0}, {\"species\": \"Escherichia_coli\", \"counts\": 51680.0}, {\"species\": \"Photobacterium_sp.\", \"counts\": 23218.0}, {\"species\": \"Vibrio_vulnificu\", \"counts\": 21969.0}, {\"species\": \"Vibrio_cholerae\", \"counts\": 17900.0}, {\"species\": \"metagenome\", \"counts\": 15102.0}, {\"species\": \"Staphylococcus_aureu\", \"counts\": 9021.0}, {\"species\": \"Bacillus_sp.\", \"counts\": 8652.0}, {\"species\": \"Ochrobactrum_sp.\", \"counts\": 3038.0}, {\"species\": \"Gram-positive_bacterium\", \"counts\": 2008.0}, {\"species\": \"Pseudoalteromonas_sp.\", \"counts\": 1571.0}, {\"species\": \"Desulfococcus_multivoran\", \"counts\": 1446.0}, {\"species\": \"Pseudomonas_aeruginosa\", \"counts\": 1426.0}, {\"species\": \"Streptomyces_sp.\", \"counts\": 1290.0}, {\"species\": \"Limnobacter_litorali\", \"counts\": 1106.0}, {\"species\": \"Verrucosispora_sp.\", \"counts\": 1046.0}, {\"species\": \"Nocardiopsis_sp.\", \"counts\": 1018.0}, {\"species\": \"Marinomonas_sp.\", \"counts\": 959.0}]}}, {\"mode\": \"vega-lite\"});\n",
       "</script>"
      ],
      "text/plain": [
       "alt.Chart(...)"
      ]
     },
     "execution_count": 76,
     "metadata": {},
     "output_type": "execute_result"
    }
   ],
   "source": [
    "alt.Chart(miseq_df3.reset_index().sort_values('counts', ascending=False).head(20)).mark_bar().encode(\n",
    "    x=alt.X('counts'),\n",
    "    y=alt.Y(\"species\", sort='-x'),\n",
    "    tooltip=['species']\n",
    ").properties(height=700)"
   ]
  },
  {
   "cell_type": "code",
   "execution_count": 77,
   "id": "77f2dc71-54df-4bd1-a7f5-5f6c3f1852cb",
   "metadata": {},
   "outputs": [],
   "source": [
    "pacbio_df3 = pacbio_df3.reset_index().sort_values('counts', ascending=False).head(20)\n",
    "pacbio_df3.set_index('species', inplace=True)\n",
    "pacbio_df3['platform'] = 'PacBio'\n",
    "pacbio_df3.reset_index(inplace=True)"
   ]
  },
  {
   "cell_type": "code",
   "execution_count": 78,
   "id": "e9a1dd44-2b6e-4540-bf4c-1ffcb7a6c2a0",
   "metadata": {},
   "outputs": [],
   "source": [
    "miseq_df3 = miseq_df3.reset_index().sort_values('counts', ascending=False).head(20)\n",
    "miseq_df3.set_index('species', inplace=True)\n",
    "miseq_df3['platform'] = 'MiSeq'\n",
    "miseq_df3.reset_index(inplace=True)"
   ]
  },
  {
   "cell_type": "code",
   "execution_count": 79,
   "id": "89da4acc-f855-47b3-b1f1-a1001aacf3dc",
   "metadata": {},
   "outputs": [],
   "source": [
    "merged_df = pd.concat([pacbio_df3, miseq_df3], ignore_index=True)"
   ]
  },
  {
   "cell_type": "code",
   "execution_count": 38,
   "id": "d1344b9e-b066-4d1f-96b8-340bb369a211",
   "metadata": {},
   "outputs": [],
   "source": [
    "from vega_datasets import data\n",
    "\n",
    "source = data.barley()"
   ]
  },
  {
   "cell_type": "code",
   "execution_count": 39,
   "id": "1295e134-ceb7-4957-aaa6-03f3b943e0a0",
   "metadata": {},
   "outputs": [
    {
     "data": {
      "text/html": [
       "<div>\n",
       "<style scoped>\n",
       "    .dataframe tbody tr th:only-of-type {\n",
       "        vertical-align: middle;\n",
       "    }\n",
       "\n",
       "    .dataframe tbody tr th {\n",
       "        vertical-align: top;\n",
       "    }\n",
       "\n",
       "    .dataframe thead th {\n",
       "        text-align: right;\n",
       "    }\n",
       "</style>\n",
       "<table border=\"1\" class=\"dataframe\">\n",
       "  <thead>\n",
       "    <tr style=\"text-align: right;\">\n",
       "      <th></th>\n",
       "      <th>yield</th>\n",
       "      <th>variety</th>\n",
       "      <th>year</th>\n",
       "      <th>site</th>\n",
       "    </tr>\n",
       "  </thead>\n",
       "  <tbody>\n",
       "    <tr>\n",
       "      <th>0</th>\n",
       "      <td>27.00000</td>\n",
       "      <td>Manchuria</td>\n",
       "      <td>1931</td>\n",
       "      <td>University Farm</td>\n",
       "    </tr>\n",
       "    <tr>\n",
       "      <th>1</th>\n",
       "      <td>48.86667</td>\n",
       "      <td>Manchuria</td>\n",
       "      <td>1931</td>\n",
       "      <td>Waseca</td>\n",
       "    </tr>\n",
       "    <tr>\n",
       "      <th>2</th>\n",
       "      <td>27.43334</td>\n",
       "      <td>Manchuria</td>\n",
       "      <td>1931</td>\n",
       "      <td>Morris</td>\n",
       "    </tr>\n",
       "    <tr>\n",
       "      <th>3</th>\n",
       "      <td>39.93333</td>\n",
       "      <td>Manchuria</td>\n",
       "      <td>1931</td>\n",
       "      <td>Crookston</td>\n",
       "    </tr>\n",
       "    <tr>\n",
       "      <th>4</th>\n",
       "      <td>32.96667</td>\n",
       "      <td>Manchuria</td>\n",
       "      <td>1931</td>\n",
       "      <td>Grand Rapids</td>\n",
       "    </tr>\n",
       "  </tbody>\n",
       "</table>\n",
       "</div>"
      ],
      "text/plain": [
       "      yield    variety  year             site\n",
       "0  27.00000  Manchuria  1931  University Farm\n",
       "1  48.86667  Manchuria  1931           Waseca\n",
       "2  27.43334  Manchuria  1931           Morris\n",
       "3  39.93333  Manchuria  1931        Crookston\n",
       "4  32.96667  Manchuria  1931     Grand Rapids"
      ]
     },
     "execution_count": 39,
     "metadata": {},
     "output_type": "execute_result"
    }
   ],
   "source": [
    "source.head()"
   ]
  },
  {
   "cell_type": "code",
   "execution_count": 80,
   "id": "c745704c-18e9-47c8-818c-84a4e77db4b9",
   "metadata": {},
   "outputs": [
    {
     "data": {
      "text/html": [
       "<div>\n",
       "<style scoped>\n",
       "    .dataframe tbody tr th:only-of-type {\n",
       "        vertical-align: middle;\n",
       "    }\n",
       "\n",
       "    .dataframe tbody tr th {\n",
       "        vertical-align: top;\n",
       "    }\n",
       "\n",
       "    .dataframe thead th {\n",
       "        text-align: right;\n",
       "    }\n",
       "</style>\n",
       "<table border=\"1\" class=\"dataframe\">\n",
       "  <thead>\n",
       "    <tr style=\"text-align: right;\">\n",
       "      <th></th>\n",
       "      <th>species</th>\n",
       "      <th>counts</th>\n",
       "      <th>platform</th>\n",
       "    </tr>\n",
       "  </thead>\n",
       "  <tbody>\n",
       "    <tr>\n",
       "      <th>0</th>\n",
       "      <td>Staphylococcus_aureu</td>\n",
       "      <td>106624.0</td>\n",
       "      <td>PacBio</td>\n",
       "    </tr>\n",
       "    <tr>\n",
       "      <th>1</th>\n",
       "      <td>Escherichia_coli</td>\n",
       "      <td>77726.0</td>\n",
       "      <td>PacBio</td>\n",
       "    </tr>\n",
       "    <tr>\n",
       "      <th>2</th>\n",
       "      <td>unknown</td>\n",
       "      <td>63074.0</td>\n",
       "      <td>PacBio</td>\n",
       "    </tr>\n",
       "    <tr>\n",
       "      <th>3</th>\n",
       "      <td>uncultured</td>\n",
       "      <td>17950.0</td>\n",
       "      <td>PacBio</td>\n",
       "    </tr>\n",
       "    <tr>\n",
       "      <th>4</th>\n",
       "      <td>Vibrio_fluviali</td>\n",
       "      <td>16790.0</td>\n",
       "      <td>PacBio</td>\n",
       "    </tr>\n",
       "  </tbody>\n",
       "</table>\n",
       "</div>"
      ],
      "text/plain": [
       "                species    counts platform\n",
       "0  Staphylococcus_aureu  106624.0   PacBio\n",
       "1      Escherichia_coli   77726.0   PacBio\n",
       "2               unknown   63074.0   PacBio\n",
       "3            uncultured   17950.0   PacBio\n",
       "4       Vibrio_fluviali   16790.0   PacBio"
      ]
     },
     "execution_count": 80,
     "metadata": {},
     "output_type": "execute_result"
    }
   ],
   "source": [
    "merged_df.head()"
   ]
  },
  {
   "cell_type": "code",
   "execution_count": 84,
   "id": "728215a6-8fcf-4f33-b5fe-95476b2c48b3",
   "metadata": {},
   "outputs": [],
   "source": [
    "merged_df['counts'] = merged_df['counts'].astype(int)"
   ]
  },
  {
   "cell_type": "code",
   "execution_count": 106,
   "id": "61d54716-44bb-403d-b827-1a8a2771c02a",
   "metadata": {},
   "outputs": [],
   "source": [
    "alt.Chart(merged_df).mark_bar().encode(\n",
    "    x=alt.X('platform'),\n",
    "    y=alt.Y('counts', stack=\"normalize\"),\n",
    "    color='species',\n",
    "    tooltip=['species'],\n",
    "    order=alt.Order(\n",
    "      # Sort the segments of the bars by this field\n",
    "      'counts',\n",
    "      sort='ascending'\n",
    "    )\n",
    ").properties(\n",
    "    height=700\n",
    ").configure_range(\n",
    "    category={'scheme': 'category20'}\n",
    ").save(\n",
    "    \"taxo_comparison.html\")"
   ]
  },
  {
   "cell_type": "code",
   "execution_count": null,
   "id": "234a884e-802f-4c12-8e55-d3dbf6fb7ae4",
   "metadata": {},
   "outputs": [],
   "source": []
  }
 ],
 "metadata": {
  "kernelspec": {
   "display_name": "notebook-env:Python",
   "language": "python",
   "name": "conda-env-notebook-env-py"
  },
  "language_info": {
   "codemirror_mode": {
    "name": "ipython",
    "version": 3
   },
   "file_extension": ".py",
   "mimetype": "text/x-python",
   "name": "python",
   "nbconvert_exporter": "python",
   "pygments_lexer": "ipython3",
   "version": "3.7.12"
  }
 },
 "nbformat": 4,
 "nbformat_minor": 5
}
